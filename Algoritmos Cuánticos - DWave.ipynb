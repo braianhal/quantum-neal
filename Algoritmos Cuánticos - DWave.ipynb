{
 "cells": [
  {
   "cell_type": "code",
   "execution_count": 52,
   "id": "b5bea1f5-c620-4d20-aad7-7b9c29437940",
   "metadata": {},
   "outputs": [],
   "source": [
    "# Generales.\n",
    "import pandas as pd\n",
    "import numpy as np\n",
    "\n",
    "# Quantum.\n",
    "from neal import SimulatedAnnealingSampler\n",
    "from dimod import BQM"
   ]
  },
  {
   "cell_type": "markdown",
   "id": "3da27566-4aa3-41ed-90f9-88356032d788",
   "metadata": {},
   "source": [
    "# Actividad: Modelización y resolución con Dwave\n",
    "\n",
    "### Descripción\n",
    "\n",
    "Se partirá del siguiente mapa:\n",
    "\n",
    "<img src=\"img/grafo.png\" alt=\"drawing\" width=\"400\"/>\n",
    "\n",
    "Cada uno de estos nodos representa una ciudad que, como podemos ver, están unidas a través de una serie de carreteras (nótese que no tienen por qué existir carreteras entre todas las ciudades).\n",
    "\n",
    "El objetivo será encontrar la **ruta de mínima distancia** que cumpla las siguientes características:\n",
    "- El inicio de la ruta y el final debe ser el nodo 0.\n",
    "- La segunda ciudad que vamos a visitar (sin contar el origen) debe ser la ciudad 2.\n",
    "- Todas las ciudades deben ser visitadas.\n",
    "- Solo podemos ir una vez a cada una de las ciudades.\n",
    "\n",
    "Como podemos ver, no se ha indicado la distancia del nodo 0 al nodo 2. Da a dicha distancia la longitud que te parezca más acertada.\n",
    "\n",
    "### Resolución\n",
    "\n",
    "Se define la matriz $D$ con las distancias asociadas a las transiciones entre los nodos. Como el grafo no es dirigido, la matriz es simétrica respecto a la diagonal.\n",
    "\n",
    "Además se penalizan todas las transiciones inválidas (no existentes en el grafo) para evitar que sean tenidas en cuenta por el algoritmo de optimización. En esta penalización se incluye a la transición del nodo 0 al 2, que si bien existe en el grafo, se busca evitarla en la solución."
   ]
  },
  {
   "cell_type": "code",
   "execution_count": 53,
   "id": "0bef6e63-f6aa-4610-9e35-3984565e78a3",
   "metadata": {},
   "outputs": [
    {
     "data": {
      "text/html": [
       "<div>\n",
       "<style scoped>\n",
       "    .dataframe tbody tr th:only-of-type {\n",
       "        vertical-align: middle;\n",
       "    }\n",
       "\n",
       "    .dataframe tbody tr th {\n",
       "        vertical-align: top;\n",
       "    }\n",
       "\n",
       "    .dataframe thead th {\n",
       "        text-align: right;\n",
       "    }\n",
       "</style>\n",
       "<table border=\"1\" class=\"dataframe\">\n",
       "  <thead>\n",
       "    <tr style=\"text-align: right;\">\n",
       "      <th></th>\n",
       "      <th>0</th>\n",
       "      <th>1</th>\n",
       "      <th>2</th>\n",
       "      <th>3</th>\n",
       "      <th>4</th>\n",
       "    </tr>\n",
       "  </thead>\n",
       "  <tbody>\n",
       "    <tr>\n",
       "      <th>0</th>\n",
       "      <td>100</td>\n",
       "      <td>3</td>\n",
       "      <td>100</td>\n",
       "      <td>4</td>\n",
       "      <td>2</td>\n",
       "    </tr>\n",
       "    <tr>\n",
       "      <th>1</th>\n",
       "      <td>3</td>\n",
       "      <td>100</td>\n",
       "      <td>3</td>\n",
       "      <td>4</td>\n",
       "      <td>100</td>\n",
       "    </tr>\n",
       "    <tr>\n",
       "      <th>2</th>\n",
       "      <td>100</td>\n",
       "      <td>3</td>\n",
       "      <td>100</td>\n",
       "      <td>1</td>\n",
       "      <td>6</td>\n",
       "    </tr>\n",
       "    <tr>\n",
       "      <th>3</th>\n",
       "      <td>4</td>\n",
       "      <td>4</td>\n",
       "      <td>1</td>\n",
       "      <td>100</td>\n",
       "      <td>100</td>\n",
       "    </tr>\n",
       "    <tr>\n",
       "      <th>4</th>\n",
       "      <td>2</td>\n",
       "      <td>100</td>\n",
       "      <td>6</td>\n",
       "      <td>100</td>\n",
       "      <td>100</td>\n",
       "    </tr>\n",
       "  </tbody>\n",
       "</table>\n",
       "</div>"
      ],
      "text/plain": [
       "     0    1    2    3    4\n",
       "0  100    3  100    4    2\n",
       "1    3  100    3    4  100\n",
       "2  100    3  100    1    6\n",
       "3    4    4    1  100  100\n",
       "4    2  100    6  100  100"
      ]
     },
     "execution_count": 53,
     "metadata": {},
     "output_type": "execute_result"
    }
   ],
   "source": [
    "# Inicializar los 5 nodos e instantes.\n",
    "nodos = range(0,5)\n",
    "instantes = range(0,5)\n",
    "\n",
    "# Penalización por transición no válida.\n",
    "p = 100\n",
    "\n",
    "# Inicializar matriz D.\n",
    "D = [\n",
    "    [p,3,p,4,2],\n",
    "    [3,p,3,4,p],\n",
    "    [p,3,p,1,6],\n",
    "    [4,4,1,p,p],\n",
    "    [2,p,6,p,p]]\n",
    "\n",
    "# Mostrar matriz D\n",
    "pd.DataFrame(D,nodos,nodos)"
   ]
  },
  {
   "cell_type": "markdown",
   "id": "f9b6e36d-bd4a-4cb5-a243-f152f0667065",
   "metadata": {},
   "source": [
    "Para definir el problema en términos de QUBO se utilizan **en principio** 25 variables binarias $x_{it}$, donde $i$ representa el nodo (del 0 al 4) y $t$ es el instante del camino en el cual ese nodo fue visitado (un instante del 0 al 4 para cada nodo).\n",
    "\n",
    "La función a minimizar quedaría de la siguiente forma:\n",
    "\n",
    "$f(\\vec{x}) = \\sum_{i=0}^{4} \\sum_{j=0}^{4} d_{ij} \\sum_{t=0}^{4}x_{i,t}x_{j, t+1 \\mod 5} $\n",
    "\n",
    "Es decir, hay 1 término cuadrático por cada producto entre la variable asociada a cada posible nodo $i$ elegido en cada posible instante $t$ ($x_{i,t}$), multiplicada por la variable asociada a cada posible nodo $j$ elegido en el instante siguiente $t+1$ ($x_{j,t+1 \\mod 5}$) (el instante se expresa en módulo 5 para forzar a que el instante 4 se deba multiplicar con el 0, porque tras haber recorrido todos los nodos se vuelve al nodo inicial). $d_{ij}$ hace referencia a la distancia del camino entre el nodo $i$ y el $j$ tomada de la matriz $D$ (este valor actúa como el peso de cada término). \n",
    "\n",
    "Para cumplir los criterios de que:\n",
    "- Se debe visitar un nodo en cada instante.\n",
    "- Se deben visitar todos los nodos 1 vez.\n",
    "\n",
    "hay que agregar restricciones, las cuales pueden ser:\n",
    "- $(\\sum_{i=0}^{4} x_it) - 1 = 0,  \\forall{t}$  (Por cada instante debe haber exactamente 1 nodo asociado. Esto genera 5 restricciones, una para cada instante $t$).\n",
    "- $(\\sum_{t=0}^{4} x_it) - 1 = 0,  \\forall{i}$  (Por cada nodo debe haber exactamente 1 instante asociado. Esto genera 5 restricciones, una para cada nodo $i$).\n",
    "\n",
    "La siguiente tabla muestra las variables que se utilizarían en principío:\n",
    "| t\\i | 0 | 1 | 2 | 3 | 4 |\n",
    "| --- | --- | --- | --- | --- | --- |\n",
    "| **0** | $x_{00}$ | $x_{10}$ | $x_{20}$ | $x_{30}$ | $x_{40}$ |\n",
    "| **1** | $x_{01}$ | $x_{11}$ | $x_{21}$ | $x_{31}$ | $x_{41}$ |\n",
    "| **2** | $x_{02}$ | $x_{12}$ | $x_{22}$ | $x_{32}$ | $x_{42}$ |\n",
    "| **3** | $x_{03}$ | $x_{13}$ | $x_{23}$ | $x_{33}$ | $x_{43}$ |\n",
    "| **4** | $x_{04}$ | $x_{14}$ | $x_{24}$ | $x_{34}$ | $x_{44}$ |\n",
    "\n",
    "El problema se puede modelar como un lagrangiano a minimizar:\n",
    "\n",
    "$L(\\vec{x}, \\alpha) = f(\\vec{x}) - \\alpha g(\\vec{x})$\n",
    "\n",
    "Donde $f(\\vec{x})$ es la función definida previamente (con los términos cuadráticos), $\\alpha$ es el multiplicador de Lagrange y $g(\\vec{x})$ es la suma del lado izquierdo de la igualdad de las 10 restricciones.\n",
    "\n",
    "Se traduce el problema al modelo QUBO usando la clase BQM:"
   ]
  },
  {
   "cell_type": "code",
   "execution_count": 60,
   "id": "2701167a-8bbc-4540-9eba-29eb43c8e95d",
   "metadata": {},
   "outputs": [
    {
     "name": "stdout",
     "output_type": "stream",
     "text": [
      "[('x_00', 1), ('x_01', 1), ('x_02', 1), ('x_03', 1), ('x_04', 1)]\n",
      "[('x_10', 1), ('x_11', 1), ('x_12', 1), ('x_13', 1), ('x_14', 1)]\n",
      "[('x_20', 1), ('x_21', 1), ('x_22', 1), ('x_23', 1), ('x_24', 1)]\n",
      "[('x_30', 1), ('x_31', 1), ('x_32', 1), ('x_33', 1), ('x_34', 1)]\n",
      "[('x_40', 1), ('x_41', 1), ('x_42', 1), ('x_43', 1), ('x_44', 1)]\n",
      "[('x_00', 1), ('x_10', 1), ('x_20', 1), ('x_30', 1), ('x_40', 1)]\n",
      "[('x_01', 1), ('x_11', 1), ('x_21', 1), ('x_31', 1), ('x_41', 1)]\n",
      "[('x_02', 1), ('x_12', 1), ('x_22', 1), ('x_32', 1), ('x_42', 1)]\n",
      "[('x_03', 1), ('x_13', 1), ('x_23', 1), ('x_33', 1), ('x_43', 1)]\n",
      "[('x_04', 1), ('x_14', 1), ('x_24', 1), ('x_34', 1), ('x_44', 1)]\n"
     ]
    },
    {
     "data": {
      "text/plain": [
       "BinaryQuadraticModel({'x_00': 200.0, 'x_01': 200.0, 'x_02': 200.0, 'x_03': 200.0, 'x_04': 200.0, 'x_10': 200.0, 'x_11': 200.0, 'x_12': 200.0, 'x_13': 200.0, 'x_14': 200.0, 'x_20': 200.0, 'x_21': 200.0, 'x_22': 200.0, 'x_23': 200.0, 'x_24': 200.0, 'x_30': 200.0, 'x_31': 200.0, 'x_32': 200.0, 'x_33': 200.0, 'x_34': 200.0, 'x_40': 200.0, 'x_41': 200.0, 'x_42': 200.0, 'x_43': 200.0, 'x_44': 200.0}, {('x_01', 'x_00'): 9.0, ('x_02', 'x_00'): -200.0, ('x_02', 'x_01'): 9.0, ('x_03', 'x_00'): -200.0, ('x_03', 'x_01'): -200.0, ('x_03', 'x_02'): 9.0, ('x_04', 'x_00'): 9.0, ('x_04', 'x_01'): -200.0, ('x_04', 'x_02'): -200.0, ('x_04', 'x_03'): 9.0, ('x_10', 'x_00'): -200.0, ('x_11', 'x_01'): -200.0, ('x_11', 'x_10'): 10.0, ('x_12', 'x_02'): -200.0, ('x_12', 'x_10'): -200.0, ('x_12', 'x_11'): 10.0, ('x_13', 'x_03'): -200.0, ('x_13', 'x_10'): -200.0, ('x_13', 'x_11'): -200.0, ('x_13', 'x_12'): 10.0, ('x_14', 'x_04'): -200.0, ('x_14', 'x_10'): 10.0, ('x_14', 'x_11'): -200.0, ('x_14', 'x_12'): -200.0, ('x_14', 'x_13'): 10.0, ('x_20', 'x_00'): -200.0, ('x_20', 'x_10'): -200.0, ('x_21', 'x_01'): -200.0, ('x_21', 'x_11'): -200.0, ('x_21', 'x_20'): 10.0, ('x_22', 'x_02'): -200.0, ('x_22', 'x_12'): -200.0, ('x_22', 'x_20'): -200.0, ('x_22', 'x_21'): 10.0, ('x_23', 'x_03'): -200.0, ('x_23', 'x_13'): -200.0, ('x_23', 'x_20'): -200.0, ('x_23', 'x_21'): -200.0, ('x_23', 'x_22'): 10.0, ('x_24', 'x_04'): -200.0, ('x_24', 'x_14'): -200.0, ('x_24', 'x_20'): 10.0, ('x_24', 'x_21'): -200.0, ('x_24', 'x_22'): -200.0, ('x_24', 'x_23'): 10.0, ('x_30', 'x_00'): -200.0, ('x_30', 'x_10'): -200.0, ('x_30', 'x_20'): -200.0, ('x_31', 'x_01'): -200.0, ('x_31', 'x_11'): -200.0, ('x_31', 'x_21'): -200.0, ('x_31', 'x_30'): 9.0, ('x_32', 'x_02'): -200.0, ('x_32', 'x_12'): -200.0, ('x_32', 'x_22'): -200.0, ('x_32', 'x_30'): -200.0, ('x_32', 'x_31'): 9.0, ('x_33', 'x_03'): -200.0, ('x_33', 'x_13'): -200.0, ('x_33', 'x_23'): -200.0, ('x_33', 'x_30'): -200.0, ('x_33', 'x_31'): -200.0, ('x_33', 'x_32'): 9.0, ('x_34', 'x_04'): -200.0, ('x_34', 'x_14'): -200.0, ('x_34', 'x_24'): -200.0, ('x_34', 'x_30'): 9.0, ('x_34', 'x_31'): -200.0, ('x_34', 'x_32'): -200.0, ('x_34', 'x_33'): 9.0, ('x_40', 'x_00'): -200.0, ('x_40', 'x_10'): -200.0, ('x_40', 'x_20'): -200.0, ('x_40', 'x_30'): -200.0, ('x_41', 'x_01'): -200.0, ('x_41', 'x_11'): -200.0, ('x_41', 'x_21'): -200.0, ('x_41', 'x_31'): -200.0, ('x_41', 'x_40'): 108.0, ('x_42', 'x_02'): -200.0, ('x_42', 'x_12'): -200.0, ('x_42', 'x_22'): -200.0, ('x_42', 'x_32'): -200.0, ('x_42', 'x_40'): -200.0, ('x_42', 'x_41'): 108.0, ('x_43', 'x_03'): -200.0, ('x_43', 'x_13'): -200.0, ('x_43', 'x_23'): -200.0, ('x_43', 'x_33'): -200.0, ('x_43', 'x_40'): -200.0, ('x_43', 'x_41'): -200.0, ('x_43', 'x_42'): 108.0, ('x_44', 'x_04'): -200.0, ('x_44', 'x_14'): -200.0, ('x_44', 'x_24'): -200.0, ('x_44', 'x_34'): -200.0, ('x_44', 'x_40'): 108.0, ('x_44', 'x_41'): -200.0, ('x_44', 'x_42'): -200.0, ('x_44', 'x_43'): 108.0}, -1000.0, 'BINARY')"
      ]
     },
     "execution_count": 60,
     "metadata": {},
     "output_type": "execute_result"
    }
   ],
   "source": [
    "# Devuelve el nombre de la variable en base al nodo e instante. Ejemplo x_31.\n",
    "def obtener_variable(i, t):\n",
    "    return \"x_\" + str(i) + str(t)\n",
    "\n",
    "# Modelo QUBO del problema.\n",
    "L = BQM(vartype='BINARY')\n",
    "\n",
    "# Se agregan los coeficientes cuadráticos expresados en f.\n",
    "# Se itera por cada combinación de nodos i, j e instantes t.\n",
    "for i in nodos:\n",
    "    for j in nodos:\n",
    "        for t in instantes:\n",
    "            x_it = obtener_variable(i,t) # Salida desde nodo i en instante t.\n",
    "            x_jt1 = obtener_variable(i,(t+1) % 5) # Llegada a nodo j en instante t+1 mod 5.\n",
    "            d = D[i][j] # Duración del camino entre i y j.\n",
    "            L.add_quadratic(x_it, x_jt1, d)\n",
    "\n",
    "\n",
    "# Se define el multiplicador de Lagrange elegido por prueba y error.\n",
    "alfa = -100\n",
    "\n",
    "# Se agregan las restricciones de igualdad lineales.\n",
    "\n",
    "# Restricciones que fuerzan a que cada nodo sea visitado en un único instante:\n",
    "for i in nodos:\n",
    "    terminos_restriccion = []\n",
    "    for t in instantes:\n",
    "        var = obtener_variable(i,t)\n",
    "        terminos_restriccion.append((var, 1))\n",
    "    print(terminos_restriccion)\n",
    "    L.add_linear_equality_constraint(terminos_restriccion, alfa, -1)\n",
    "\n",
    "# Restricciones que fuerzan a que en cada instante solo tenga 1 nodo visitado.\n",
    "for t in instantes:\n",
    "    terminos_restriccion = []\n",
    "    for i in nodos:\n",
    "        var = obtener_variable(i,t)\n",
    "        terminos_restriccion.append((var, 1))\n",
    "    print(terminos_restriccion)\n",
    "    L.add_linear_equality_constraint(terminos_restriccion, alfa, -1)\n",
    "\n",
    "L"
   ]
  },
  {
   "cell_type": "markdown",
   "id": "03a52b00-c0dc-45fb-8d2a-f8a4a4b3a917",
   "metadata": {},
   "source": [
    "Si bien $L$ en principio tendría 25 variables, se puede agregar implícitamente la restricción de que el nodo $0$ debe ser visitado necesariamente en $t=0$ y el nodo $2$ debe ser visitado en $t=2$ (y ningún otro nodo puede visitarse en esos instantes).\n",
    "\n",
    "Esto reduciría la tabla de variables de la siguiente forma:\n",
    "| t\\i | 0 | 1 | 2 | 3 | 4 |\n",
    "| --- | --- | --- | --- | --- | --- |\n",
    "| **0** | $1$ | $0$ | $0$ | $0$ | $0$ |\n",
    "| **1** | $0$ | $x_{11}$ | $0$ | $x_{31}$ | $x_{41}$ |\n",
    "| **2** | $0$ | $0$ | $1$ | $0$ | $0$ |\n",
    "| **3** | $0$ | $x_{13}$ | $0$ | $x_{33}$ | $x_{43}$ |\n",
    "| **4** | $0$ | $x_{14}$ | $0$ | $x_{34}$ | $x_{44}$ |\n",
    "\n",
    "Lo cual reduce las variables a optimizar a 9. Esto se puede conseguir fijando el valor de las variables ya conocidas a 0 o 1 en el modelo BQM."
   ]
  },
  {
   "cell_type": "code",
   "execution_count": 61,
   "id": "081b8a26-bd1d-4e55-bfc6-bb25ef12f761",
   "metadata": {},
   "outputs": [
    {
     "data": {
      "text/plain": [
       "BinaryQuadraticModel({'x_11': 200.0, 'x_13': 200.0, 'x_14': 200.0, 'x_31': 200.0, 'x_33': 200.0, 'x_34': 200.0, 'x_41': 200.0, 'x_43': 200.0, 'x_44': 200.0}, {('x_13', 'x_11'): -200.0, ('x_14', 'x_11'): -200.0, ('x_14', 'x_13'): 10.0, ('x_31', 'x_11'): -200.0, ('x_33', 'x_13'): -200.0, ('x_33', 'x_31'): -200.0, ('x_34', 'x_14'): -200.0, ('x_34', 'x_31'): -200.0, ('x_34', 'x_33'): 9.0, ('x_41', 'x_11'): -200.0, ('x_41', 'x_31'): -200.0, ('x_43', 'x_13'): -200.0, ('x_43', 'x_33'): -200.0, ('x_43', 'x_41'): -200.0, ('x_44', 'x_14'): -200.0, ('x_44', 'x_34'): -200.0, ('x_44', 'x_41'): -200.0, ('x_44', 'x_43'): 108.0}, -600.0, 'BINARY')"
      ]
     },
     "execution_count": 61,
     "metadata": {},
     "output_type": "execute_result"
    }
   ],
   "source": [
    "# Fijar variables a 1 si i=t=0 o i=t=2.\n",
    "# Fijar variables a 0 si i=0 y t!=0, o i=2 y t!=2\n",
    "for i in nodos:\n",
    "    for t in instantes:\n",
    "        var = obtener_variable(i,t)\n",
    "        if ((i==0 and t==0) or (i==2 and t==2)):\n",
    "            L.fix_variable(var, 1)\n",
    "        elif ((i==0 and t!=0) or (i==2 and t!=2) or (i!=0 and t==0) or (i!=2 and t==2)):\n",
    "            L.fix_variable(var, 0)\n",
    "\n",
    "L"
   ]
  },
  {
   "cell_type": "code",
   "execution_count": 62,
   "id": "8c66d2a9-705a-4493-81eb-db7bed5c8529",
   "metadata": {},
   "outputs": [
    {
     "data": {
      "text/plain": [
       "SampleSet(rec.array([([1, 1, 1, 1, 1, 1, 1, 1, 1], -1073., 100)],\n",
       "          dtype=[('sample', 'i1', (9,)), ('energy', '<f8'), ('num_occurrences', '<i8')]), Variables(['x_11', 'x_13', 'x_14', 'x_31', 'x_33', 'x_34', 'x_41', 'x_43', 'x_44']), {'beta_range': [np.float64(0.0011552453009332421), np.float64(1.177403859232897)], 'beta_schedule_type': 'geometric', 'timing': {'preprocessing_ns': 857100, 'sampling_ns': 8053400, 'postprocessing_ns': 266100}}, 'BINARY')"
      ]
     },
     "execution_count": 62,
     "metadata": {},
     "output_type": "execute_result"
    }
   ],
   "source": [
    "# Se transforma el BQM al formato QUBO para ser ejecutado por el sampler.\n",
    "L_qubo = L.to_qubo()[0]\n",
    "\n",
    "# Optimizar el problema QUBO en el annealing sampler.\n",
    "sampleset = SimulatedAnnealingSampler().sample_qubo(L_qubo, num_reads = 100, chain_strength = 10) \n",
    "sampleset.aggregate()"
   ]
  },
  {
   "cell_type": "code",
   "execution_count": null,
   "id": "f7050743-3a46-45c4-be99-e420b631a696",
   "metadata": {},
   "outputs": [],
   "source": []
  }
 ],
 "metadata": {
  "kernelspec": {
   "display_name": "quantum",
   "language": "python",
   "name": "quantum"
  },
  "language_info": {
   "codemirror_mode": {
    "name": "ipython",
    "version": 3
   },
   "file_extension": ".py",
   "mimetype": "text/x-python",
   "name": "python",
   "nbconvert_exporter": "python",
   "pygments_lexer": "ipython3",
   "version": "3.13.2"
  }
 },
 "nbformat": 4,
 "nbformat_minor": 5
}
